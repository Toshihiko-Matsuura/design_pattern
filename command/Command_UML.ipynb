{
 "cells": [
  {
   "cell_type": "markdown",
   "metadata": {},
   "source": [
    "# Commandパターン"
   ]
  },
  {
   "cell_type": "markdown",
   "metadata": {},
   "source": [
    "### 命令とは\n",
    "- あるクラスに対する命令は，そのクラスのメンバ関数を呼ぶ\n",
    "- 通常は関数の引数として命令の内容を表す"
   ]
  },
  {
   "cell_type": "markdown",
   "metadata": {},
   "source": [
    "### Commandパターンとは\n",
    "- １つ、もしくは、複数の命令を１つのオブジェクトで表現すること"
   ]
  },
  {
   "cell_type": "markdown",
   "metadata": {},
   "source": [
    "### メリット\n",
    "- 処理の詳細を隠蔽することができる\n",
    "- 命令の履歴管理や取り消し機能の実装が用意\n",
    "- （Command単位での）特定の一連の処理のマクロ定義"
   ]
  },
  {
   "cell_type": "code",
   "execution_count": 1,
   "metadata": {
    "collapsed": false
   },
   "outputs": [],
   "source": [
    "import iplantuml"
   ]
  },
  {
   "cell_type": "code",
   "execution_count": 2,
   "metadata": {
    "collapsed": false
   },
   "outputs": [
    {
     "data": {
      "image/svg+xml": [
       "<svg contentScriptType=\"application/ecmascript\" contentStyleType=\"text/css\" height=\"287px\" preserveAspectRatio=\"none\" style=\"width:355px;height:287px;\" version=\"1.1\" viewBox=\"0 0 355 287\" width=\"355px\" xmlns=\"http://www.w3.org/2000/svg\" xmlns:xlink=\"http://www.w3.org/1999/xlink\" zoomAndPan=\"magnify\"><defs><filter height=\"300%\" id=\"f151yhs35qm7ha\" width=\"300%\" x=\"-1\" y=\"-1\"><feGaussianBlur result=\"blurOut\" stdDeviation=\"2.0\"/><feColorMatrix in=\"blurOut\" result=\"blurOut2\" type=\"matrix\" values=\"0 0 0 0 0 0 0 0 0 0 0 0 0 0 0 0 0 0 .4 0\"/><feOffset dx=\"4.0\" dy=\"4.0\" in=\"blurOut2\" result=\"blurOut3\"/><feBlend in=\"SourceGraphic\" in2=\"blurOut3\" mode=\"normal\"/></filter></defs><g><text fill=\"#000000\" font-family=\"sans-serif\" font-size=\"18\" lengthAdjust=\"spacing\" textLength=\"165\" x=\"88.5\" y=\"16.708\">Commandバターン</text><!--MD5=[521817ab83e81da341a3f4b5e91bae41]\n",
       "class Command--><rect codeLine=\"3\" fill=\"#FEFECE\" filter=\"url(#f151yhs35qm7ha)\" height=\"86.4141\" id=\"Command\" style=\"stroke:#A80036;stroke-width:1.5;\" width=\"94\" x=\"239.5\" y=\"186.9531\"/><ellipse cx=\"254.5\" cy=\"202.9531\" fill=\"#B4A7E5\" rx=\"11\" ry=\"11\" style=\"stroke:#A80036;stroke-width:1.0;\"/><path d=\"M255.4531,199.7344 L257.1719,199.7344 C257.5625,199.7344 257.75,199.7031 257.875,199.625 C258.1406,199.4688 258.2813,199.1875 258.2813,198.8906 C258.2813,198.625 258.1719,198.3594 257.9375,198.1875 C257.7656,198.0781 257.625,198.0469 257.1719,198.0469 L252.0313,198.0469 C251.5938,198.0469 251.4688,198.0625 251.3125,198.1563 C251.0625,198.3125 250.9063,198.6094 250.9063,198.8906 C250.9063,199.1719 251.0469,199.4219 251.2656,199.5938 C251.4219,199.7031 251.6094,199.7344 252.0313,199.7344 L253.75,199.7344 L253.75,206.25 L252.0313,206.25 C251.5938,206.25 251.4688,206.2656 251.3125,206.375 C251.0625,206.5313 250.9063,206.8125 250.9063,207.1094 C250.9063,207.3594 251.0469,207.625 251.2656,207.7813 C251.4219,207.9063 251.625,207.9531 252.0313,207.9531 L257.1719,207.9531 C257.9219,207.9531 258.2813,207.6719 258.2813,207.1094 C258.2813,206.8281 258.1719,206.5781 257.9375,206.4063 C257.7656,206.2813 257.625,206.25 257.1719,206.25 L255.4531,206.25 L255.4531,199.7344 Z \" fill=\"#000000\"/><text fill=\"#000000\" font-family=\"sans-serif\" font-size=\"12\" font-style=\"italic\" lengthAdjust=\"spacing\" textLength=\"62\" x=\"268.5\" y=\"207.1074\">Command</text><line style=\"stroke:#A80036;stroke-width:1.5;\" x1=\"240.5\" x2=\"332.5\" y1=\"218.9531\" y2=\"218.9531\"/><line style=\"stroke:#A80036;stroke-width:1.5;\" x1=\"240.5\" x2=\"332.5\" y1=\"226.9531\" y2=\"226.9531\"/><ellipse cx=\"250.5\" cy=\"237.9531\" fill=\"#84BE84\" rx=\"3\" ry=\"3\" style=\"stroke:#038048;stroke-width:1.0;\"/><text fill=\"#000000\" font-family=\"sans-serif\" font-size=\"11\" lengthAdjust=\"spacing\" textLength=\"56\" x=\"259.5\" y=\"241.1636\">execute()</text><ellipse cx=\"250.5\" cy=\"250.7578\" fill=\"#84BE84\" rx=\"3\" ry=\"3\" style=\"stroke:#038048;stroke-width:1.0;\"/><text fill=\"#000000\" font-family=\"sans-serif\" font-size=\"11\" lengthAdjust=\"spacing\" textLength=\"36\" x=\"259.5\" y=\"253.9683\">undo()</text><ellipse cx=\"250.5\" cy=\"263.5625\" fill=\"#84BE84\" rx=\"3\" ry=\"3\" style=\"stroke:#038048;stroke-width:1.0;\"/><text fill=\"#000000\" font-family=\"sans-serif\" font-size=\"11\" lengthAdjust=\"spacing\" textLength=\"34\" x=\"259.5\" y=\"266.7729\">redo()</text><!--MD5=[d01e39adb8cc3240d418de1aedb45e74]\n",
       "class Invoker--><rect codeLine=\"9\" fill=\"#FEFECE\" filter=\"url(#f151yhs35qm7ha)\" height=\"48\" id=\"Invoker\" style=\"stroke:#A80036;stroke-width:1.5;\" width=\"77\" x=\"127\" y=\"205.9531\"/><ellipse cx=\"142\" cy=\"221.9531\" fill=\"#ADD1B2\" rx=\"11\" ry=\"11\" style=\"stroke:#A80036;stroke-width:1.0;\"/><path d=\"M144.3438,217.625 C143.4063,217.1875 142.8125,217.0469 141.9375,217.0469 C139.3125,217.0469 137.3125,219.125 137.3125,221.8438 L137.3125,222.9688 C137.3125,225.5469 139.4219,227.4375 142.3125,227.4375 C143.5313,227.4375 144.6875,227.1406 145.4375,226.5938 C146.0156,226.1875 146.3438,225.7344 146.3438,225.3438 C146.3438,224.8906 145.9531,224.5 145.4844,224.5 C145.2656,224.5 145.0625,224.5781 144.875,224.7656 C144.4219,225.25 144.4219,225.25 144.2344,225.3438 C143.8125,225.6094 143.125,225.7344 142.3594,225.7344 C140.3125,225.7344 139.0156,224.6406 139.0156,222.9375 L139.0156,221.8438 C139.0156,220.0625 140.2656,218.75 142,218.75 C142.5781,218.75 143.1875,218.9063 143.6563,219.1563 C144.1406,219.4375 144.3125,219.6563 144.4063,220.0625 C144.4688,220.4688 144.5,220.5938 144.6406,220.7188 C144.7813,220.8594 145.0156,220.9688 145.2344,220.9688 C145.5,220.9688 145.7656,220.8281 145.9375,220.6094 C146.0469,220.4531 146.0781,220.2656 146.0781,219.8438 L146.0781,218.4219 C146.0781,217.9844 146.0625,217.8594 145.9688,217.7031 C145.8125,217.4375 145.5313,217.2969 145.2344,217.2969 C144.9375,217.2969 144.7344,217.3906 144.5156,217.7031 L144.3438,217.625 Z \" fill=\"#000000\"/><text fill=\"#000000\" font-family=\"sans-serif\" font-size=\"12\" lengthAdjust=\"spacing\" textLength=\"45\" x=\"156\" y=\"226.1074\">Invoker</text><line style=\"stroke:#A80036;stroke-width:1.5;\" x1=\"128\" x2=\"203\" y1=\"237.9531\" y2=\"237.9531\"/><line style=\"stroke:#A80036;stroke-width:1.5;\" x1=\"128\" x2=\"203\" y1=\"245.9531\" y2=\"245.9531\"/><!--MD5=[6fb1311da0745c184c648aedb301439e]\n",
       "class ConcreteCommand--><rect codeLine=\"10\" fill=\"#FEFECE\" filter=\"url(#f151yhs35qm7ha)\" height=\"99.2188\" id=\"ConcreteCommand\" style=\"stroke:#A80036;stroke-width:1.5;\" width=\"147\" x=\"94\" y=\"27.9531\"/><ellipse cx=\"109\" cy=\"43.9531\" fill=\"#ADD1B2\" rx=\"11\" ry=\"11\" style=\"stroke:#A80036;stroke-width:1.0;\"/><path d=\"M111.3438,39.625 C110.4063,39.1875 109.8125,39.0469 108.9375,39.0469 C106.3125,39.0469 104.3125,41.125 104.3125,43.8438 L104.3125,44.9688 C104.3125,47.5469 106.4219,49.4375 109.3125,49.4375 C110.5313,49.4375 111.6875,49.1406 112.4375,48.5938 C113.0156,48.1875 113.3438,47.7344 113.3438,47.3438 C113.3438,46.8906 112.9531,46.5 112.4844,46.5 C112.2656,46.5 112.0625,46.5781 111.875,46.7656 C111.4219,47.25 111.4219,47.25 111.2344,47.3438 C110.8125,47.6094 110.125,47.7344 109.3594,47.7344 C107.3125,47.7344 106.0156,46.6406 106.0156,44.9375 L106.0156,43.8438 C106.0156,42.0625 107.2656,40.75 109,40.75 C109.5781,40.75 110.1875,40.9063 110.6563,41.1563 C111.1406,41.4375 111.3125,41.6563 111.4063,42.0625 C111.4688,42.4688 111.5,42.5938 111.6406,42.7188 C111.7813,42.8594 112.0156,42.9688 112.2344,42.9688 C112.5,42.9688 112.7656,42.8281 112.9375,42.6094 C113.0469,42.4531 113.0781,42.2656 113.0781,41.8438 L113.0781,40.4219 C113.0781,39.9844 113.0625,39.8594 112.9688,39.7031 C112.8125,39.4375 112.5313,39.2969 112.2344,39.2969 C111.9375,39.2969 111.7344,39.3906 111.5156,39.7031 L111.3438,39.625 Z \" fill=\"#000000\"/><text fill=\"#000000\" font-family=\"sans-serif\" font-size=\"12\" lengthAdjust=\"spacing\" textLength=\"115\" x=\"123\" y=\"48.1074\">ConcreteCommand</text><line style=\"stroke:#A80036;stroke-width:1.5;\" x1=\"95\" x2=\"240\" y1=\"59.9531\" y2=\"59.9531\"/><ellipse cx=\"105\" cy=\"70.9531\" fill=\"none\" rx=\"3\" ry=\"3\" style=\"stroke:#038048;stroke-width:1.0;\"/><text fill=\"#000000\" font-family=\"sans-serif\" font-size=\"11\" lengthAdjust=\"spacing\" textLength=\"48\" x=\"114\" y=\"74.1636\">receiver</text><line style=\"stroke:#A80036;stroke-width:1.5;\" x1=\"95\" x2=\"240\" y1=\"80.7578\" y2=\"80.7578\"/><ellipse cx=\"105\" cy=\"91.7578\" fill=\"#84BE84\" rx=\"3\" ry=\"3\" style=\"stroke:#038048;stroke-width:1.0;\"/><text fill=\"#000000\" font-family=\"sans-serif\" font-size=\"11\" lengthAdjust=\"spacing\" textLength=\"56\" x=\"114\" y=\"94.9683\">execute()</text><ellipse cx=\"105\" cy=\"104.5625\" fill=\"#84BE84\" rx=\"3\" ry=\"3\" style=\"stroke:#038048;stroke-width:1.0;\"/><text fill=\"#000000\" font-family=\"sans-serif\" font-size=\"11\" lengthAdjust=\"spacing\" textLength=\"36\" x=\"114\" y=\"107.7729\">undo()</text><ellipse cx=\"105\" cy=\"117.3672\" fill=\"#84BE84\" rx=\"3\" ry=\"3\" style=\"stroke:#038048;stroke-width:1.0;\"/><text fill=\"#000000\" font-family=\"sans-serif\" font-size=\"11\" lengthAdjust=\"spacing\" textLength=\"34\" x=\"114\" y=\"120.5776\">redo()</text><!--MD5=[ed6624c6556d5e7b1bd23032162d20b7]\n",
       "class Client--><rect codeLine=\"16\" fill=\"#FEFECE\" filter=\"url(#f151yhs35qm7ha)\" height=\"48\" id=\"Client\" style=\"stroke:#A80036;stroke-width:1.5;\" width=\"65\" x=\"276\" y=\"53.4531\"/><ellipse cx=\"291\" cy=\"69.4531\" fill=\"#ADD1B2\" rx=\"11\" ry=\"11\" style=\"stroke:#A80036;stroke-width:1.0;\"/><path d=\"M293.3438,65.125 C292.4063,64.6875 291.8125,64.5469 290.9375,64.5469 C288.3125,64.5469 286.3125,66.625 286.3125,69.3438 L286.3125,70.4688 C286.3125,73.0469 288.4219,74.9375 291.3125,74.9375 C292.5313,74.9375 293.6875,74.6406 294.4375,74.0938 C295.0156,73.6875 295.3438,73.2344 295.3438,72.8438 C295.3438,72.3906 294.9531,72 294.4844,72 C294.2656,72 294.0625,72.0781 293.875,72.2656 C293.4219,72.75 293.4219,72.75 293.2344,72.8438 C292.8125,73.1094 292.125,73.2344 291.3594,73.2344 C289.3125,73.2344 288.0156,72.1406 288.0156,70.4375 L288.0156,69.3438 C288.0156,67.5625 289.2656,66.25 291,66.25 C291.5781,66.25 292.1875,66.4063 292.6563,66.6563 C293.1406,66.9375 293.3125,67.1563 293.4063,67.5625 C293.4688,67.9688 293.5,68.0938 293.6406,68.2188 C293.7813,68.3594 294.0156,68.4688 294.2344,68.4688 C294.5,68.4688 294.7656,68.3281 294.9375,68.1094 C295.0469,67.9531 295.0781,67.7656 295.0781,67.3438 L295.0781,65.9219 C295.0781,65.4844 295.0625,65.3594 294.9688,65.2031 C294.8125,64.9375 294.5313,64.7969 294.2344,64.7969 C293.9375,64.7969 293.7344,64.8906 293.5156,65.2031 L293.3438,65.125 Z \" fill=\"#000000\"/><text fill=\"#000000\" font-family=\"sans-serif\" font-size=\"12\" lengthAdjust=\"spacing\" textLength=\"33\" x=\"305\" y=\"73.6074\">Client</text><line style=\"stroke:#A80036;stroke-width:1.5;\" x1=\"277\" x2=\"340\" y1=\"85.4531\" y2=\"85.4531\"/><line style=\"stroke:#A80036;stroke-width:1.5;\" x1=\"277\" x2=\"340\" y1=\"93.4531\" y2=\"93.4531\"/><!--MD5=[bcee973e2623bef0127252815a37a6e8]\n",
       "class Receiver--><rect codeLine=\"17\" fill=\"#FEFECE\" filter=\"url(#f151yhs35qm7ha)\" height=\"60.8047\" id=\"Receiver\" style=\"stroke:#A80036;stroke-width:1.5;\" width=\"85\" x=\"7\" y=\"199.4531\"/><ellipse cx=\"22\" cy=\"215.4531\" fill=\"#ADD1B2\" rx=\"11\" ry=\"11\" style=\"stroke:#A80036;stroke-width:1.0;\"/><path d=\"M24.3438,211.125 C23.4063,210.6875 22.8125,210.5469 21.9375,210.5469 C19.3125,210.5469 17.3125,212.625 17.3125,215.3438 L17.3125,216.4688 C17.3125,219.0469 19.4219,220.9375 22.3125,220.9375 C23.5313,220.9375 24.6875,220.6406 25.4375,220.0938 C26.0156,219.6875 26.3438,219.2344 26.3438,218.8438 C26.3438,218.3906 25.9531,218 25.4844,218 C25.2656,218 25.0625,218.0781 24.875,218.2656 C24.4219,218.75 24.4219,218.75 24.2344,218.8438 C23.8125,219.1094 23.125,219.2344 22.3594,219.2344 C20.3125,219.2344 19.0156,218.1406 19.0156,216.4375 L19.0156,215.3438 C19.0156,213.5625 20.2656,212.25 22,212.25 C22.5781,212.25 23.1875,212.4063 23.6563,212.6563 C24.1406,212.9375 24.3125,213.1563 24.4063,213.5625 C24.4688,213.9688 24.5,214.0938 24.6406,214.2188 C24.7813,214.3594 25.0156,214.4688 25.2344,214.4688 C25.5,214.4688 25.7656,214.3281 25.9375,214.1094 C26.0469,213.9531 26.0781,213.7656 26.0781,213.3438 L26.0781,211.9219 C26.0781,211.4844 26.0625,211.3594 25.9688,211.2031 C25.8125,210.9375 25.5313,210.7969 25.2344,210.7969 C24.9375,210.7969 24.7344,210.8906 24.5156,211.2031 L24.3438,211.125 Z \" fill=\"#000000\"/><text fill=\"#000000\" font-family=\"sans-serif\" font-size=\"12\" lengthAdjust=\"spacing\" textLength=\"53\" x=\"36\" y=\"219.6074\">Receiver</text><line style=\"stroke:#A80036;stroke-width:1.5;\" x1=\"8\" x2=\"91\" y1=\"231.4531\" y2=\"231.4531\"/><line style=\"stroke:#A80036;stroke-width:1.5;\" x1=\"8\" x2=\"91\" y1=\"239.4531\" y2=\"239.4531\"/><ellipse cx=\"18\" cy=\"250.4531\" fill=\"#84BE84\" rx=\"3\" ry=\"3\" style=\"stroke:#038048;stroke-width:1.0;\"/><text fill=\"#000000\" font-family=\"sans-serif\" font-size=\"11\" lengthAdjust=\"spacing\" textLength=\"42\" x=\"27\" y=\"253.6636\">action()</text><!--MD5=[61226423da3d0f874329010916e4aeca]\n",
       "link ConcreteCommand to Receiver--><path codeLine=\"21\" d=\"M121.7845,136.7593 C121.7845,136.7593 93.2416,173.164 80.9751,188.809 \" fill=\"none\" id=\"ConcreteCommand-Receiver\" style=\"stroke:#A80036;stroke-width:1.0;\"/><polygon fill=\"#A80036\" points=\"72.846,199.177,81.5469,194.5625,75.9311,195.2422,75.2513,189.6264,72.846,199.177\" style=\"stroke:#A80036;stroke-width:1.0;\"/><line style=\"stroke:#A80036;stroke-width:1.0;\" x1=\"75.9311\" x2=\"80.8673\" y1=\"195.2422\" y2=\"188.9466\"/><polygon fill=\"#FFFFFF\" points=\"129.189,127.3161,122.339,129.5696,121.7845,136.7593,128.6345,134.5059,129.189,127.3161\" style=\"stroke:#A80036;stroke-width:1.0;\"/><!--MD5=[a44c0902327ecc1f6dbfb47cc9c90da8]\n",
       "link ConcreteCommand to Client--><path codeLine=\"22\" d=\"M241.029,77.4531 C250.904,77.4531 260.78,77.4531 270.655,77.4531 \" fill=\"none\" id=\"ConcreteCommand-to-Client\" style=\"stroke:#A80036;stroke-width:1.0;stroke-dasharray:7.0,7.0;\"/><polygon fill=\"#A80036\" points=\"275.819,77.4531,266.819,73.4531,270.819,77.4531,266.819,81.4531,275.819,77.4531\" style=\"stroke:#A80036;stroke-width:1.0;\"/><!--MD5=[869b40440847d1d379d790d413c3dfb6]\n",
       "link ConcreteCommand to Command--><path codeLine=\"23\" d=\"M206.136,127.3161 C217.181,141.2851 229.324,156.6431 240.752,171.0951 \" fill=\"none\" id=\"ConcreteCommand-to-Command\" style=\"stroke:#A80036;stroke-width:1.0;stroke-dasharray:7.0,7.0;\"/><polygon fill=\"none\" points=\"246.339,166.8751,253.253,186.9054,235.357,175.5587,246.339,166.8751\" style=\"stroke:#A80036;stroke-width:1.0;\"/><!--MD5=[1fc7c1e446da3eb9b78b8bbcd1524564]\n",
       "link Invoker to Command--><path codeLine=\"24\" d=\"M216.258,229.9531 C216.258,229.9531 223.089,229.9531 225.938,229.9531 \" fill=\"none\" id=\"Invoker-Command\" style=\"stroke:#A80036;stroke-width:1.0;\"/><polygon fill=\"#A80036\" points=\"239.275,229.9531,230.275,225.9531,234.275,229.9531,230.275,233.9531,239.275,229.9531\" style=\"stroke:#A80036;stroke-width:1.0;\"/><line style=\"stroke:#A80036;stroke-width:1.0;\" x1=\"234.275\" x2=\"226.275\" y1=\"229.9531\" y2=\"229.953\"/><polygon fill=\"#FFFFFF\" points=\"204.258,229.9531,210.258,233.9531,216.258,229.9531,210.258,225.9531,204.258,229.9531\" style=\"stroke:#A80036;stroke-width:1.0;\"/><!--MD5=[d1929e1a9648dbe10d8349ae3bc0ff55]\n",
       "@startuml\n",
       "Title Commandバターン\n",
       "\n",
       "interface Command{\n",
       "    + execute()\n",
       "    + undo()\n",
       "    + redo()\n",
       "}\n",
       "\n",
       "class Invoker\n",
       "class ConcreteCommand{\n",
       "    + receiver\n",
       "    + execute()\n",
       "    + undo()\n",
       "    + redo()\n",
       "}\n",
       "class Client\n",
       "class Receiver {\n",
       "    + action()\n",
       "}\n",
       "\n",
       "ConcreteCommand o- -> Receiver\n",
       "ConcreteCommand .> Client\n",
       "ConcreteCommand ..|> Command\n",
       "Invoker o-> Command\n",
       "@enduml\n",
       "\n",
       "PlantUML version 1.2021.01beta7(Unknown compile time)\n",
       "(GPL source distribution)\n",
       "Java Runtime: Java(TM) SE Runtime Environment\n",
       "JVM: Java HotSpot(TM) 64-Bit Server VM\n",
       "Default Encoding: UTF-8\n",
       "Language: en\n",
       "Country: US\n",
       "--></g></svg>"
      ],
      "text/plain": [
       "<IPython.core.display.SVG object>"
      ]
     },
     "execution_count": 2,
     "metadata": {},
     "output_type": "execute_result"
    }
   ],
   "source": [
    "%%plantuml\n",
    "@startuml\n",
    "Title Commandバターン\n",
    "\n",
    "interface Command{\n",
    "    + execute()\n",
    "    + undo()\n",
    "    + redo()\n",
    "}\n",
    "\n",
    "class Invoker\n",
    "class ConcreteCommand{\n",
    "    + receiver\n",
    "    + execute()\n",
    "    + undo()\n",
    "    + redo()\n",
    "}\n",
    "class Client\n",
    "class Receiver {\n",
    "    + action()\n",
    "}\n",
    "\n",
    "ConcreteCommand o--> Receiver\n",
    "ConcreteCommand .> Client\n",
    "ConcreteCommand ..|> Command\n",
    "Invoker o-> Command\n",
    "\n",
    "@enduml"
   ]
  },
  {
   "cell_type": "markdown",
   "metadata": {},
   "source": [
    "- Command（命令）: 命令のインタフェース（API）を定義\n",
    "- ConceateCommand（具体的命令）: Commandのインタフェースを実際に実装\n",
    "- Receiver（受信者）: 命令の受取手\n",
    "- Client（依頼者）: 具体的命令を生成し，命令の受取手を割り当てる\n",
    "- Invoker（起動者）: Commandで定義されているインタフェースを呼び出し，命令の実行を開始する"
   ]
  },
  {
   "cell_type": "code",
   "execution_count": 3,
   "metadata": {
    "collapsed": false
   },
   "outputs": [
    {
     "data": {
      "image/svg+xml": [
       "<svg contentScriptType=\"application/ecmascript\" contentStyleType=\"text/css\" height=\"312px\" preserveAspectRatio=\"none\" style=\"width:506px;height:312px;\" version=\"1.1\" viewBox=\"0 0 506 312\" width=\"506px\" xmlns=\"http://www.w3.org/2000/svg\" xmlns:xlink=\"http://www.w3.org/1999/xlink\" zoomAndPan=\"magnify\"><defs><filter height=\"300%\" id=\"f15z4f1e1912tk\" width=\"300%\" x=\"-1\" y=\"-1\"><feGaussianBlur result=\"blurOut\" stdDeviation=\"2.0\"/><feColorMatrix in=\"blurOut\" result=\"blurOut2\" type=\"matrix\" values=\"0 0 0 0 0 0 0 0 0 0 0 0 0 0 0 0 0 0 .4 0\"/><feOffset dx=\"4.0\" dy=\"4.0\" in=\"blurOut2\" result=\"blurOut3\"/><feBlend in=\"SourceGraphic\" in2=\"blurOut3\" mode=\"normal\"/></filter></defs><g><text fill=\"#000000\" font-family=\"sans-serif\" font-size=\"18\" lengthAdjust=\"spacing\" textLength=\"165\" x=\"164\" y=\"16.708\">Commandバターン</text><!--MD5=[521817ab83e81da341a3f4b5e91bae41]\n",
       "class Command--><rect codeLine=\"3\" fill=\"#FEFECE\" filter=\"url(#f15z4f1e1912tk)\" height=\"86.4141\" id=\"Command\" style=\"stroke:#A80036;stroke-width:1.5;\" width=\"94\" x=\"130\" y=\"199.9531\"/><ellipse cx=\"145\" cy=\"215.9531\" fill=\"#B4A7E5\" rx=\"11\" ry=\"11\" style=\"stroke:#A80036;stroke-width:1.0;\"/><path d=\"M145.9531,212.7344 L147.6719,212.7344 C148.0625,212.7344 148.25,212.7031 148.375,212.625 C148.6406,212.4688 148.7813,212.1875 148.7813,211.8906 C148.7813,211.625 148.6719,211.3594 148.4375,211.1875 C148.2656,211.0781 148.125,211.0469 147.6719,211.0469 L142.5313,211.0469 C142.0938,211.0469 141.9688,211.0625 141.8125,211.1563 C141.5625,211.3125 141.4063,211.6094 141.4063,211.8906 C141.4063,212.1719 141.5469,212.4219 141.7656,212.5938 C141.9219,212.7031 142.1094,212.7344 142.5313,212.7344 L144.25,212.7344 L144.25,219.25 L142.5313,219.25 C142.0938,219.25 141.9688,219.2656 141.8125,219.375 C141.5625,219.5313 141.4063,219.8125 141.4063,220.1094 C141.4063,220.3594 141.5469,220.625 141.7656,220.7813 C141.9219,220.9063 142.125,220.9531 142.5313,220.9531 L147.6719,220.9531 C148.4219,220.9531 148.7813,220.6719 148.7813,220.1094 C148.7813,219.8281 148.6719,219.5781 148.4375,219.4063 C148.2656,219.2813 148.125,219.25 147.6719,219.25 L145.9531,219.25 L145.9531,212.7344 Z \" fill=\"#000000\"/><text fill=\"#000000\" font-family=\"sans-serif\" font-size=\"12\" font-style=\"italic\" lengthAdjust=\"spacing\" textLength=\"62\" x=\"159\" y=\"220.1074\">Command</text><line style=\"stroke:#A80036;stroke-width:1.5;\" x1=\"131\" x2=\"223\" y1=\"231.9531\" y2=\"231.9531\"/><line style=\"stroke:#A80036;stroke-width:1.5;\" x1=\"131\" x2=\"223\" y1=\"239.9531\" y2=\"239.9531\"/><ellipse cx=\"141\" cy=\"250.9531\" fill=\"#84BE84\" rx=\"3\" ry=\"3\" style=\"stroke:#038048;stroke-width:1.0;\"/><text fill=\"#000000\" font-family=\"sans-serif\" font-size=\"11\" lengthAdjust=\"spacing\" textLength=\"56\" x=\"150\" y=\"254.1636\">execute()</text><ellipse cx=\"141\" cy=\"263.7578\" fill=\"#84BE84\" rx=\"3\" ry=\"3\" style=\"stroke:#038048;stroke-width:1.0;\"/><text fill=\"#000000\" font-family=\"sans-serif\" font-size=\"11\" lengthAdjust=\"spacing\" textLength=\"36\" x=\"150\" y=\"266.9683\">undo()</text><ellipse cx=\"141\" cy=\"276.5625\" fill=\"#84BE84\" rx=\"3\" ry=\"3\" style=\"stroke:#038048;stroke-width:1.0;\"/><text fill=\"#000000\" font-family=\"sans-serif\" font-size=\"11\" lengthAdjust=\"spacing\" textLength=\"34\" x=\"150\" y=\"279.7729\">redo()</text><!--MD5=[6de11b680f9466f9292ed5155983e7d5]\n",
       "class Controler--><rect codeLine=\"9\" fill=\"#FEFECE\" filter=\"url(#f15z4f1e1912tk)\" height=\"48\" id=\"Controler\" style=\"stroke:#A80036;stroke-width:1.5;\" width=\"88\" x=\"7\" y=\"218.9531\"/><ellipse cx=\"22\" cy=\"234.9531\" fill=\"#ADD1B2\" rx=\"11\" ry=\"11\" style=\"stroke:#A80036;stroke-width:1.0;\"/><path d=\"M24.3438,230.625 C23.4063,230.1875 22.8125,230.0469 21.9375,230.0469 C19.3125,230.0469 17.3125,232.125 17.3125,234.8438 L17.3125,235.9688 C17.3125,238.5469 19.4219,240.4375 22.3125,240.4375 C23.5313,240.4375 24.6875,240.1406 25.4375,239.5938 C26.0156,239.1875 26.3438,238.7344 26.3438,238.3438 C26.3438,237.8906 25.9531,237.5 25.4844,237.5 C25.2656,237.5 25.0625,237.5781 24.875,237.7656 C24.4219,238.25 24.4219,238.25 24.2344,238.3438 C23.8125,238.6094 23.125,238.7344 22.3594,238.7344 C20.3125,238.7344 19.0156,237.6406 19.0156,235.9375 L19.0156,234.8438 C19.0156,233.0625 20.2656,231.75 22,231.75 C22.5781,231.75 23.1875,231.9063 23.6563,232.1563 C24.1406,232.4375 24.3125,232.6563 24.4063,233.0625 C24.4688,233.4688 24.5,233.5938 24.6406,233.7188 C24.7813,233.8594 25.0156,233.9688 25.2344,233.9688 C25.5,233.9688 25.7656,233.8281 25.9375,233.6094 C26.0469,233.4531 26.0781,233.2656 26.0781,232.8438 L26.0781,231.4219 C26.0781,230.9844 26.0625,230.8594 25.9688,230.7031 C25.8125,230.4375 25.5313,230.2969 25.2344,230.2969 C24.9375,230.2969 24.7344,230.3906 24.5156,230.7031 L24.3438,230.625 Z \" fill=\"#000000\"/><text fill=\"#000000\" font-family=\"sans-serif\" font-size=\"12\" lengthAdjust=\"spacing\" textLength=\"56\" x=\"36\" y=\"239.1074\">Controler</text><line style=\"stroke:#A80036;stroke-width:1.5;\" x1=\"8\" x2=\"94\" y1=\"250.9531\" y2=\"250.9531\"/><line style=\"stroke:#A80036;stroke-width:1.5;\" x1=\"8\" x2=\"94\" y1=\"258.9531\" y2=\"258.9531\"/><!--MD5=[e6565bcaf2c57f4960fb5bf2410419c8]\n",
       "class PlayCommand--><rect codeLine=\"10\" fill=\"#FEFECE\" filter=\"url(#f15z4f1e1912tk)\" height=\"99.2188\" id=\"PlayCommand\" style=\"stroke:#A80036;stroke-width:1.5;\" width=\"132\" x=\"84\" y=\"27.9531\"/><ellipse cx=\"106.65\" cy=\"43.9531\" fill=\"#ADD1B2\" rx=\"11\" ry=\"11\" style=\"stroke:#A80036;stroke-width:1.0;\"/><path d=\"M108.9938,39.625 C108.0563,39.1875 107.4625,39.0469 106.5875,39.0469 C103.9625,39.0469 101.9625,41.125 101.9625,43.8438 L101.9625,44.9688 C101.9625,47.5469 104.0719,49.4375 106.9625,49.4375 C108.1813,49.4375 109.3375,49.1406 110.0875,48.5938 C110.6656,48.1875 110.9938,47.7344 110.9938,47.3438 C110.9938,46.8906 110.6031,46.5 110.1344,46.5 C109.9156,46.5 109.7125,46.5781 109.525,46.7656 C109.0719,47.25 109.0719,47.25 108.8844,47.3438 C108.4625,47.6094 107.775,47.7344 107.0094,47.7344 C104.9625,47.7344 103.6656,46.6406 103.6656,44.9375 L103.6656,43.8438 C103.6656,42.0625 104.9156,40.75 106.65,40.75 C107.2281,40.75 107.8375,40.9063 108.3063,41.1563 C108.7906,41.4375 108.9625,41.6563 109.0563,42.0625 C109.1188,42.4688 109.15,42.5938 109.2906,42.7188 C109.4313,42.8594 109.6656,42.9688 109.8844,42.9688 C110.15,42.9688 110.4156,42.8281 110.5875,42.6094 C110.6969,42.4531 110.7281,42.2656 110.7281,41.8438 L110.7281,40.4219 C110.7281,39.9844 110.7125,39.8594 110.6188,39.7031 C110.4625,39.4375 110.1813,39.2969 109.8844,39.2969 C109.5875,39.2969 109.3844,39.3906 109.1656,39.7031 L108.9938,39.625 Z \" fill=\"#000000\"/><text fill=\"#000000\" font-family=\"sans-serif\" font-size=\"12\" lengthAdjust=\"spacing\" textLength=\"83\" x=\"122.35\" y=\"48.1074\">PlayCommand</text><line style=\"stroke:#A80036;stroke-width:1.5;\" x1=\"85\" x2=\"215\" y1=\"59.9531\" y2=\"59.9531\"/><ellipse cx=\"95\" cy=\"70.9531\" fill=\"none\" rx=\"3\" ry=\"3\" style=\"stroke:#038048;stroke-width:1.0;\"/><text fill=\"#000000\" font-family=\"sans-serif\" font-size=\"11\" lengthAdjust=\"spacing\" textLength=\"106\" x=\"104\" y=\"74.1636\">MusicPlayer player</text><line style=\"stroke:#A80036;stroke-width:1.5;\" x1=\"85\" x2=\"215\" y1=\"80.7578\" y2=\"80.7578\"/><ellipse cx=\"95\" cy=\"91.7578\" fill=\"#84BE84\" rx=\"3\" ry=\"3\" style=\"stroke:#038048;stroke-width:1.0;\"/><text fill=\"#000000\" font-family=\"sans-serif\" font-size=\"11\" lengthAdjust=\"spacing\" textLength=\"56\" x=\"104\" y=\"94.9683\">execute()</text><ellipse cx=\"95\" cy=\"104.5625\" fill=\"#84BE84\" rx=\"3\" ry=\"3\" style=\"stroke:#038048;stroke-width:1.0;\"/><text fill=\"#000000\" font-family=\"sans-serif\" font-size=\"11\" lengthAdjust=\"spacing\" textLength=\"36\" x=\"104\" y=\"107.7729\">undo()</text><ellipse cx=\"95\" cy=\"117.3672\" fill=\"#84BE84\" rx=\"3\" ry=\"3\" style=\"stroke:#038048;stroke-width:1.0;\"/><text fill=\"#000000\" font-family=\"sans-serif\" font-size=\"11\" lengthAdjust=\"spacing\" textLength=\"34\" x=\"104\" y=\"120.5776\">redo()</text><!--MD5=[8090bb9a4462d62feb3e83e117c4ae40]\n",
       "class NextCommand--><rect codeLine=\"16\" fill=\"#FEFECE\" filter=\"url(#f15z4f1e1912tk)\" height=\"99.2188\" id=\"NextCommand\" style=\"stroke:#A80036;stroke-width:1.5;\" width=\"132\" x=\"360\" y=\"27.9531\"/><ellipse cx=\"380.85\" cy=\"43.9531\" fill=\"#ADD1B2\" rx=\"11\" ry=\"11\" style=\"stroke:#A80036;stroke-width:1.0;\"/><path d=\"M383.1938,39.625 C382.2563,39.1875 381.6625,39.0469 380.7875,39.0469 C378.1625,39.0469 376.1625,41.125 376.1625,43.8438 L376.1625,44.9688 C376.1625,47.5469 378.2719,49.4375 381.1625,49.4375 C382.3813,49.4375 383.5375,49.1406 384.2875,48.5938 C384.8656,48.1875 385.1938,47.7344 385.1938,47.3438 C385.1938,46.8906 384.8031,46.5 384.3344,46.5 C384.1156,46.5 383.9125,46.5781 383.725,46.7656 C383.2719,47.25 383.2719,47.25 383.0844,47.3438 C382.6625,47.6094 381.975,47.7344 381.2094,47.7344 C379.1625,47.7344 377.8656,46.6406 377.8656,44.9375 L377.8656,43.8438 C377.8656,42.0625 379.1156,40.75 380.85,40.75 C381.4281,40.75 382.0375,40.9063 382.5063,41.1563 C382.9906,41.4375 383.1625,41.6563 383.2563,42.0625 C383.3188,42.4688 383.35,42.5938 383.4906,42.7188 C383.6313,42.8594 383.8656,42.9688 384.0844,42.9688 C384.35,42.9688 384.6156,42.8281 384.7875,42.6094 C384.8969,42.4531 384.9281,42.2656 384.9281,41.8438 L384.9281,40.4219 C384.9281,39.9844 384.9125,39.8594 384.8188,39.7031 C384.6625,39.4375 384.3813,39.2969 384.0844,39.2969 C383.7875,39.2969 383.5844,39.3906 383.3656,39.7031 L383.1938,39.625 Z \" fill=\"#000000\"/><text fill=\"#000000\" font-family=\"sans-serif\" font-size=\"12\" lengthAdjust=\"spacing\" textLength=\"87\" x=\"396.15\" y=\"48.1074\">NextCommand</text><line style=\"stroke:#A80036;stroke-width:1.5;\" x1=\"361\" x2=\"491\" y1=\"59.9531\" y2=\"59.9531\"/><ellipse cx=\"371\" cy=\"70.9531\" fill=\"none\" rx=\"3\" ry=\"3\" style=\"stroke:#038048;stroke-width:1.0;\"/><text fill=\"#000000\" font-family=\"sans-serif\" font-size=\"11\" lengthAdjust=\"spacing\" textLength=\"106\" x=\"380\" y=\"74.1636\">MusicPlayer player</text><line style=\"stroke:#A80036;stroke-width:1.5;\" x1=\"361\" x2=\"491\" y1=\"80.7578\" y2=\"80.7578\"/><ellipse cx=\"371\" cy=\"91.7578\" fill=\"#84BE84\" rx=\"3\" ry=\"3\" style=\"stroke:#038048;stroke-width:1.0;\"/><text fill=\"#000000\" font-family=\"sans-serif\" font-size=\"11\" lengthAdjust=\"spacing\" textLength=\"56\" x=\"380\" y=\"94.9683\">execute()</text><ellipse cx=\"371\" cy=\"104.5625\" fill=\"#84BE84\" rx=\"3\" ry=\"3\" style=\"stroke:#038048;stroke-width:1.0;\"/><text fill=\"#000000\" font-family=\"sans-serif\" font-size=\"11\" lengthAdjust=\"spacing\" textLength=\"36\" x=\"380\" y=\"107.7729\">undo()</text><ellipse cx=\"371\" cy=\"117.3672\" fill=\"#84BE84\" rx=\"3\" ry=\"3\" style=\"stroke:#038048;stroke-width:1.0;\"/><text fill=\"#000000\" font-family=\"sans-serif\" font-size=\"11\" lengthAdjust=\"spacing\" textLength=\"34\" x=\"380\" y=\"120.5776\">redo()</text><!--MD5=[09ce52be0ee7de43c61b6e2d59bf108b]\n",
       "class Person--><rect codeLine=\"22\" fill=\"#FEFECE\" filter=\"url(#f15z4f1e1912tk)\" height=\"48\" id=\"Person\" style=\"stroke:#A80036;stroke-width:1.5;\" width=\"73\" x=\"251.5\" y=\"53.4531\"/><ellipse cx=\"266.5\" cy=\"69.4531\" fill=\"#ADD1B2\" rx=\"11\" ry=\"11\" style=\"stroke:#A80036;stroke-width:1.0;\"/><path d=\"M268.8438,65.125 C267.9063,64.6875 267.3125,64.5469 266.4375,64.5469 C263.8125,64.5469 261.8125,66.625 261.8125,69.3438 L261.8125,70.4688 C261.8125,73.0469 263.9219,74.9375 266.8125,74.9375 C268.0313,74.9375 269.1875,74.6406 269.9375,74.0938 C270.5156,73.6875 270.8438,73.2344 270.8438,72.8438 C270.8438,72.3906 270.4531,72 269.9844,72 C269.7656,72 269.5625,72.0781 269.375,72.2656 C268.9219,72.75 268.9219,72.75 268.7344,72.8438 C268.3125,73.1094 267.625,73.2344 266.8594,73.2344 C264.8125,73.2344 263.5156,72.1406 263.5156,70.4375 L263.5156,69.3438 C263.5156,67.5625 264.7656,66.25 266.5,66.25 C267.0781,66.25 267.6875,66.4063 268.1563,66.6563 C268.6406,66.9375 268.8125,67.1563 268.9063,67.5625 C268.9688,67.9688 269,68.0938 269.1406,68.2188 C269.2813,68.3594 269.5156,68.4688 269.7344,68.4688 C270,68.4688 270.2656,68.3281 270.4375,68.1094 C270.5469,67.9531 270.5781,67.7656 270.5781,67.3438 L270.5781,65.9219 C270.5781,65.4844 270.5625,65.3594 270.4688,65.2031 C270.3125,64.9375 270.0313,64.7969 269.7344,64.7969 C269.4375,64.7969 269.2344,64.8906 269.0156,65.2031 L268.8438,65.125 Z \" fill=\"#000000\"/><text fill=\"#000000\" font-family=\"sans-serif\" font-size=\"12\" lengthAdjust=\"spacing\" textLength=\"41\" x=\"280.5\" y=\"73.6074\">Person</text><line style=\"stroke:#A80036;stroke-width:1.5;\" x1=\"252.5\" x2=\"323.5\" y1=\"85.4531\" y2=\"85.4531\"/><line style=\"stroke:#A80036;stroke-width:1.5;\" x1=\"252.5\" x2=\"323.5\" y1=\"93.4531\" y2=\"93.4531\"/><!--MD5=[cfc376b34c47317f714b23e021b15070]\n",
       "class MusicPlayer--><rect codeLine=\"23\" fill=\"#FEFECE\" filter=\"url(#f15z4f1e1912tk)\" height=\"112.0234\" id=\"MusicPlayer\" style=\"stroke:#A80036;stroke-width:1.5;\" width=\"171\" x=\"313.5\" y=\"186.9531\"/><ellipse cx=\"359.75\" cy=\"202.9531\" fill=\"#ADD1B2\" rx=\"11\" ry=\"11\" style=\"stroke:#A80036;stroke-width:1.0;\"/><path d=\"M362.0938,198.625 C361.1563,198.1875 360.5625,198.0469 359.6875,198.0469 C357.0625,198.0469 355.0625,200.125 355.0625,202.8438 L355.0625,203.9688 C355.0625,206.5469 357.1719,208.4375 360.0625,208.4375 C361.2813,208.4375 362.4375,208.1406 363.1875,207.5938 C363.7656,207.1875 364.0938,206.7344 364.0938,206.3438 C364.0938,205.8906 363.7031,205.5 363.2344,205.5 C363.0156,205.5 362.8125,205.5781 362.625,205.7656 C362.1719,206.25 362.1719,206.25 361.9844,206.3438 C361.5625,206.6094 360.875,206.7344 360.1094,206.7344 C358.0625,206.7344 356.7656,205.6406 356.7656,203.9375 L356.7656,202.8438 C356.7656,201.0625 358.0156,199.75 359.75,199.75 C360.3281,199.75 360.9375,199.9063 361.4063,200.1563 C361.8906,200.4375 362.0625,200.6563 362.1563,201.0625 C362.2188,201.4688 362.25,201.5938 362.3906,201.7188 C362.5313,201.8594 362.7656,201.9688 362.9844,201.9688 C363.25,201.9688 363.5156,201.8281 363.6875,201.6094 C363.7969,201.4531 363.8281,201.2656 363.8281,200.8438 L363.8281,199.4219 C363.8281,198.9844 363.8125,198.8594 363.7188,198.7031 C363.5625,198.4375 363.2813,198.2969 362.9844,198.2969 C362.6875,198.2969 362.4844,198.3906 362.2656,198.7031 L362.0938,198.625 Z \" fill=\"#000000\"/><text fill=\"#000000\" font-family=\"sans-serif\" font-size=\"12\" lengthAdjust=\"spacing\" textLength=\"70\" x=\"380.25\" y=\"207.1074\">MusicPlayer</text><line style=\"stroke:#A80036;stroke-width:1.5;\" x1=\"314.5\" x2=\"483.5\" y1=\"218.9531\" y2=\"218.9531\"/><ellipse cx=\"324.5\" cy=\"229.9531\" fill=\"none\" rx=\"3\" ry=\"3\" style=\"stroke:#038048;stroke-width:1.0;\"/><text fill=\"#000000\" font-family=\"sans-serif\" font-size=\"11\" lengthAdjust=\"spacing\" textLength=\"145\" x=\"333.5\" y=\"233.1636\">std::list&lt;std::string&gt; song;</text><ellipse cx=\"324.5\" cy=\"242.7578\" fill=\"none\" rx=\"3\" ry=\"3\" style=\"stroke:#038048;stroke-width:1.0;\"/><text fill=\"#000000\" font-family=\"sans-serif\" font-size=\"11\" lengthAdjust=\"spacing\" textLength=\"43\" x=\"333.5\" y=\"245.9683\">int num</text><line style=\"stroke:#A80036;stroke-width:1.5;\" x1=\"314.5\" x2=\"483.5\" y1=\"252.5625\" y2=\"252.5625\"/><ellipse cx=\"324.5\" cy=\"263.5625\" fill=\"#84BE84\" rx=\"3\" ry=\"3\" style=\"stroke:#038048;stroke-width:1.0;\"/><text fill=\"#000000\" font-family=\"sans-serif\" font-size=\"11\" lengthAdjust=\"spacing\" textLength=\"35\" x=\"333.5\" y=\"266.7729\">play();</text><ellipse cx=\"324.5\" cy=\"276.3672\" fill=\"#84BE84\" rx=\"3\" ry=\"3\" style=\"stroke:#038048;stroke-width:1.0;\"/><text fill=\"#000000\" font-family=\"sans-serif\" font-size=\"11\" lengthAdjust=\"spacing\" textLength=\"56\" x=\"333.5\" y=\"279.5776\">get_pos();</text><ellipse cx=\"324.5\" cy=\"289.1719\" fill=\"#84BE84\" rx=\"3\" ry=\"3\" style=\"stroke:#038048;stroke-width:1.0;\"/><text fill=\"#000000\" font-family=\"sans-serif\" font-size=\"11\" lengthAdjust=\"spacing\" textLength=\"63\" x=\"333.5\" y=\"292.3823\">get_song();</text><!--MD5=[80995821fc2cd10d45ddd254ae75dd14]\n",
       "link PlayCommand to MusicPlayer--><path codeLine=\"30\" d=\"M226.1048,128.4257 C226.1048,128.4257 278.555,162.8661 304.016,179.5841 \" fill=\"none\" id=\"PlayCommand-MusicPlayer\" style=\"stroke:#A80036;stroke-width:1.0;\"/><polygon fill=\"#A80036\" points=\"315.189,186.9211,309.8614,178.6376,311.0095,184.1767,305.4704,185.3248,315.189,186.9211\" style=\"stroke:#A80036;stroke-width:1.0;\"/><line style=\"stroke:#A80036;stroke-width:1.0;\" x1=\"311.0095\" x2=\"304.3225\" y1=\"184.1767\" y2=\"179.7856\"/><polygon fill=\"#FFFFFF\" points=\"216.074,121.8391,218.8939,128.476,226.1048,128.4257,223.2849,121.7888,216.074,121.8391\" style=\"stroke:#A80036;stroke-width:1.0;\"/><!--MD5=[57ec2981ac290e247cfadd09e62e782f]\n",
       "reverse link PlayCommand to Person--><path codeLine=\"31\" d=\"M221.293,77.4531 C231.347,77.4531 241.401,77.4531 251.455,77.4531 \" fill=\"none\" id=\"PlayCommand-backto-Person\" style=\"stroke:#A80036;stroke-width:1.0;stroke-dasharray:7.0,7.0;\"/><polygon fill=\"#A80036\" points=\"216.035,77.4531,225.035,81.4531,221.035,77.4531,225.035,73.4531,216.035,77.4531\" style=\"stroke:#A80036;stroke-width:1.0;\"/><!--MD5=[2e3fe7478f6805412bb2bbd55058c849]\n",
       "link PlayCommand to Command--><path codeLine=\"32\" d=\"M158.028,127.0661 C160.776,143.7091 163.889,162.5591 166.787,180.1061 \" fill=\"none\" id=\"PlayCommand-to-Command\" style=\"stroke:#A80036;stroke-width:1.0;stroke-dasharray:7.0,7.0;\"/><polygon fill=\"none\" points=\"173.703,179.0231,170.055,199.8959,159.89,181.3041,173.703,179.0231\" style=\"stroke:#A80036;stroke-width:1.0;\"/><!--MD5=[e971c2208104da19a36235c1059fdb42]\n",
       "link NextCommand to MusicPlayer--><path codeLine=\"34\" d=\"M416.0176,138.9059 C416.0176,138.9059 412.068,162.8171 410.22,174.0101 \" fill=\"none\" id=\"NextCommand-MusicPlayer\" style=\"stroke:#A80036;stroke-width:1.0;\"/><polygon fill=\"#A80036\" points=\"408.086,186.9341,413.4993,178.7063,408.9009,182.001,405.6062,177.4026,408.086,186.9341\" style=\"stroke:#A80036;stroke-width:1.0;\"/><line style=\"stroke:#A80036;stroke-width:1.0;\" x1=\"408.9009\" x2=\"410.204\" y1=\"182.001\" y2=\"174.1076\"/><polygon fill=\"#FFFFFF\" points=\"417.972,127.0661,413.0482,132.3345,416.0176,138.9059,420.9414,133.6375,417.972,127.0661\" style=\"stroke:#A80036;stroke-width:1.0;\"/><!--MD5=[42cb7edd945b2bba1e508dac7f6975cd]\n",
       "link Person to NextCommand--><path codeLine=\"35\" d=\"M324.656,77.4531 C334.657,77.4531 344.658,77.4531 354.659,77.4531 \" fill=\"none\" id=\"Person-to-NextCommand\" style=\"stroke:#A80036;stroke-width:1.0;stroke-dasharray:7.0,7.0;\"/><polygon fill=\"#A80036\" points=\"359.889,77.4531,350.889,73.4531,354.889,77.4531,350.889,81.4531,359.889,77.4531\" style=\"stroke:#A80036;stroke-width:1.0;\"/><!--MD5=[fb0f0f00c6b1a0e1578bc997747bfa2d]\n",
       "link NextCommand to Command--><path codeLine=\"36\" d=\"M359.926,121.8391 C323.153,145.9851 277.584,175.9071 241.128,199.8448 \" fill=\"none\" id=\"NextCommand-to-Command\" style=\"stroke:#A80036;stroke-width:1.0;stroke-dasharray:7.0,7.0;\"/><polygon fill=\"none\" points=\"244.602,205.9379,224.042,211.0641,236.918,194.2351,244.602,205.9379\" style=\"stroke:#A80036;stroke-width:1.0;\"/><!--MD5=[99627189676bb225fa787caa0fb732f6]\n",
       "link Controler to Command--><path codeLine=\"38\" d=\"M107.2969,242.9531 C107.2969,242.9531 113.81,242.9531 116.469,242.9531 \" fill=\"none\" id=\"Controler-Command\" style=\"stroke:#A80036;stroke-width:1.0;\"/><polygon fill=\"#A80036\" points=\"129.765,242.9531,120.765,238.9531,124.765,242.9531,120.765,246.9531,129.765,242.9531\" style=\"stroke:#A80036;stroke-width:1.0;\"/><line style=\"stroke:#A80036;stroke-width:1.0;\" x1=\"124.765\" x2=\"116.765\" y1=\"242.9531\" y2=\"242.953\"/><polygon fill=\"#FFFFFF\" points=\"95.2969,242.9531,101.2969,246.9531,107.2969,242.9531,101.2969,238.9531,95.2969,242.9531\" style=\"stroke:#A80036;stroke-width:1.0;\"/><!--MD5=[1815c197e00002560fd0c34d511acb97]\n",
       "@startuml\n",
       "Title Commandバターン\n",
       "\n",
       "interface Command{\n",
       "    + execute()\n",
       "    + undo()\n",
       "    + redo()\n",
       "}\n",
       "\n",
       "class Controler\n",
       "class PlayCommand{\n",
       "    + MusicPlayer player\n",
       "    + execute()\n",
       "    + undo()\n",
       "    + redo()\n",
       "}\n",
       "class NextCommand{\n",
       "    + MusicPlayer player\n",
       "    + execute()\n",
       "    + undo()\n",
       "    + redo()\n",
       "}\n",
       "class Person\n",
       "class MusicPlayer {\n",
       "    + std::list<std::string> song;\n",
       "    + int num\n",
       "    + play();\n",
       "    + get_pos();\n",
       "    + get_song();\n",
       "}\n",
       "PlayCommand o- -> MusicPlayer\n",
       "PlayCommand <. Person\n",
       "PlayCommand ..|> Command\n",
       "\n",
       "NextCommand  o- -> MusicPlayer\n",
       "Person .> NextCommand\n",
       "NextCommand ..|> Command\n",
       "\n",
       "Controler o-> Command\n",
       "@enduml\n",
       "\n",
       "PlantUML version 1.2021.01beta7(Unknown compile time)\n",
       "(GPL source distribution)\n",
       "Java Runtime: Java(TM) SE Runtime Environment\n",
       "JVM: Java HotSpot(TM) 64-Bit Server VM\n",
       "Default Encoding: UTF-8\n",
       "Language: en\n",
       "Country: US\n",
       "--></g></svg>"
      ],
      "text/plain": [
       "<IPython.core.display.SVG object>"
      ]
     },
     "execution_count": 3,
     "metadata": {},
     "output_type": "execute_result"
    }
   ],
   "source": [
    "%%plantuml\n",
    "@startuml\n",
    "Title Commandバターン\n",
    "\n",
    "interface Command{\n",
    "    + execute()\n",
    "    + undo()\n",
    "    + redo()\n",
    "}\n",
    "\n",
    "class Controler\n",
    "class PlayCommand{\n",
    "    + MusicPlayer player\n",
    "    + execute()\n",
    "    + undo()\n",
    "    + redo()\n",
    "}\n",
    "class NextCommand{\n",
    "    + MusicPlayer player\n",
    "    + execute()\n",
    "    + undo()\n",
    "    + redo()\n",
    "}\n",
    "class Person\n",
    "class MusicPlayer {\n",
    "    + std::list<std::string> song;\n",
    "    + int num\n",
    "    + play();\n",
    "    + get_pos();\n",
    "    + get_song();\n",
    "}\n",
    "PlayCommand o--> MusicPlayer\n",
    "PlayCommand <. Person\n",
    "PlayCommand ..|> Command\n",
    "\n",
    "NextCommand  o--> MusicPlayer\n",
    "Person .> NextCommand\n",
    "NextCommand ..|> Command\n",
    "\n",
    "Controler o-> Command\n",
    "\n",
    "@enduml"
   ]
  },
  {
   "cell_type": "code",
   "execution_count": null,
   "metadata": {
    "collapsed": true
   },
   "outputs": [],
   "source": []
  }
 ],
 "metadata": {
  "kernelspec": {
   "display_name": "Python 3",
   "language": "python",
   "name": "python3"
  },
  "language_info": {
   "codemirror_mode": {
    "name": "ipython",
    "version": 3
   },
   "file_extension": ".py",
   "mimetype": "text/x-python",
   "name": "python",
   "nbconvert_exporter": "python",
   "pygments_lexer": "ipython3",
   "version": "3.6.0"
  }
 },
 "nbformat": 4,
 "nbformat_minor": 2
}
