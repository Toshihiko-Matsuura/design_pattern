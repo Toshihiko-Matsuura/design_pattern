{
 "cells": [
  {
   "cell_type": "code",
   "execution_count": 1,
   "metadata": {
    "collapsed": false
   },
   "outputs": [
    {
     "data": {
      "text/plain": []
     },
     "execution_count": 1,
     "metadata": {},
     "output_type": "execute_result"
    }
   ],
   "source": [
    "#include <vector>\n",
    "#include <string>\n",
    "#include <iostream>"
   ]
  },
  {
   "cell_type": "code",
   "execution_count": 2,
   "metadata": {
    "collapsed": false
   },
   "outputs": [
    {
     "data": {
      "text/plain": []
     },
     "execution_count": 2,
     "metadata": {},
     "output_type": "execute_result"
    }
   ],
   "source": [
    "class Command {\n",
    "    public:\n",
    "        virtual void execute() = 0;\n",
    "        virtual void undo() = 0;\n",
    "        //virtual void redo() = 0;\n",
    "}"
   ]
  },
  {
   "cell_type": "code",
   "execution_count": 3,
   "metadata": {
    "collapsed": false
   },
   "outputs": [
    {
     "data": {
      "text/plain": []
     },
     "execution_count": 3,
     "metadata": {},
     "output_type": "execute_result"
    }
   ],
   "source": [
    "class MusicPlayer {\n",
    "    private:\n",
    "        std::vector<std::string> song_;\n",
    "        int pos_;\n",
    "    \n",
    "    public:\n",
    "        MusicPlayer(std::vector<std::string> song) {\n",
    "            song_ = song;\n",
    "            pos_ = 0;\n",
    "        }\n",
    "        \n",
    "        void play() {\n",
    "            std::cout << \"Play: \" << song_ [pos_];\n",
    "        }\n",
    "        \n",
    "        int get_pos() {\n",
    "            return pos_;\n",
    "        }\n",
    "        \n",
    "        void set_pos(int pos) {\n",
    "            pos_ = pos;\n",
    "        }\n",
    "        \n",
    "        std::string get_song() {\n",
    "            return song_ [pos_];\n",
    "        }\n",
    "        \n",
    "        int get_size() {\n",
    "            return song_.size();\n",
    "        }\n",
    "        \n",
    "}"
   ]
  },
  {
   "cell_type": "code",
   "execution_count": 4,
   "metadata": {
    "collapsed": false
   },
   "outputs": [
    {
     "data": {
      "text/plain": []
     },
     "execution_count": 4,
     "metadata": {},
     "output_type": "execute_result"
    }
   ],
   "source": [
    "class NextCommand : public Command {\n",
    "    private: \n",
    "            MusicPlayer* player_;\n",
    "    public:\n",
    "        NextCommand(MusicPlayer* player) : player_() {\n",
    "            player_ = player;\n",
    "        }\n",
    "    \n",
    "        void execute() {\n",
    "            if (player_ -> get_size() -1 == player_ -> get_pos()) {\n",
    "                std::cout << \"END\" << std::endl;\n",
    "            } else {\n",
    "            player_ -> set_pos(player_ -> get_pos() + 1);\n",
    "            std::cout << \"Next: \" << player_ -> get_song() << std::endl;              \n",
    "            }        \n",
    "        }\n",
    "    \n",
    "        void undo(){\n",
    "            player_ -> set_pos(player_ -> get_pos() - 1);\n",
    "            std::cout << \"Next: \" << player_ -> get_song() << std::endl;              \n",
    "        }\n",
    "        //void redo();\n",
    "}\n",
    "    "
   ]
  },
  {
   "cell_type": "code",
   "execution_count": 5,
   "metadata": {
    "collapsed": false
   },
   "outputs": [
    {
     "data": {
      "text/plain": []
     },
     "execution_count": 5,
     "metadata": {},
     "output_type": "execute_result"
    }
   ],
   "source": [
    "class PlayCommand : public Command {\n",
    "    private: \n",
    "            MusicPlayer* player_;\n",
    "    \n",
    "    public:\n",
    "        PlayCommand(MusicPlayer* player) : player_() {\n",
    "            player_ = player;\n",
    "        }\n",
    "    \n",
    "        void execute() {\n",
    "            player_-> play();\n",
    "            if (player_ -> get_size() -1 == player_ -> get_pos()) {\n",
    "                std::cout << \" (END)\" << std::endl;\n",
    "            } else {\n",
    "            player_ -> set_pos(player_ -> get_pos() + 1);\n",
    "            std::cout << \" (Next: \" << player_ -> get_song() << \")\"<< std::endl;              \n",
    "            }\n",
    "        }\n",
    "    \n",
    "        void undo() {\n",
    "            player_ -> set_pos(player_ -> get_pos() - 1);\n",
    "            std::cout << \"(Next: \" << player_ -> get_song() << \")\" << std::endl;              \n",
    "        }\n",
    "    \n",
    "        //void redo();\n",
    "}\n",
    "    "
   ]
  },
  {
   "cell_type": "code",
   "execution_count": 6,
   "metadata": {
    "collapsed": false
   },
   "outputs": [
    {
     "data": {
      "text/plain": []
     },
     "execution_count": 6,
     "metadata": {},
     "output_type": "execute_result"
    }
   ],
   "source": [
    "class Controler {\n",
    "    NextCommand* next_;\n",
    "    PlayCommand* play_;\n",
    "    int history = -1; // play: 0, next: 1\n",
    "\n",
    "    public:\n",
    "        Controler(NextCommand* next, PlayCommand* play) : next_(), play_() {\n",
    "            next_ = next;\n",
    "            play_ = play;\n",
    "        }\n",
    "        \n",
    "        void play() {\n",
    "            play_ -> execute();\n",
    "            history = 0;\n",
    "        }\n",
    "        \n",
    "        void next() {\n",
    "            next_ -> execute();\n",
    "            history = 1;\n",
    "        }\n",
    "        \n",
    "        void undo() {\n",
    "            if (history==0) {\n",
    "                play_ -> undo();\n",
    "            } else {\n",
    "                next_ -> undo();\n",
    "            }\n",
    "        }\n",
    "}"
   ]
  },
  {
   "cell_type": "code",
   "execution_count": 7,
   "metadata": {
    "collapsed": false
   },
   "outputs": [
    {
     "name": "stdout",
     "output_type": "stream",
     "text": [
      "Play: Make You Happy (Next: Step and Step)\n",
      "Next: Baby I'm a star\n",
      "Next: Step and Step\n",
      "Play: Step and Step (Next: Baby I'm a star)\n",
      "Play: Baby I'm a star (END)\n"
     ]
    },
    {
     "data": {
      "text/plain": [
       "(int) 0\n"
      ]
     },
     "execution_count": 7,
     "metadata": {},
     "output_type": "execute_result"
    }
   ],
   "source": [
    "std::vector<std::string> songs;\n",
    "\n",
    "songs.push_back(\"Make You Happy\");\n",
    "songs.push_back(\"Step and Step\");\n",
    "songs.push_back(\"Baby I'm a star\");\n",
    "\n",
    "MusicPlayer player(songs);\n",
    "NextCommand next(&player);\n",
    "PlayCommand play(&player);\n",
    "Controler controler(&next, &play);\n",
    "\n",
    "controler.play();\n",
    "controler.next();\n",
    "controler.undo();\n",
    "controler.play();\n",
    "controler.play();\n",
    "\n",
    "return 0;"
   ]
  },
  {
   "cell_type": "code",
   "execution_count": null,
   "metadata": {
    "collapsed": true
   },
   "outputs": [],
   "source": []
  }
 ],
 "metadata": {
  "kernelspec": {
   "display_name": "C++14",
   "language": "C++",
   "name": "cling-cpp14"
  },
  "language_info": {
   "codemirror_mode": "c++",
   "file_extension": ".c++",
   "mimetype": "text/x-c++src",
   "name": "c++"
  }
 },
 "nbformat": 4,
 "nbformat_minor": 2
}
